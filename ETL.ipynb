{
 "cells": [
  {
   "cell_type": "markdown",
   "metadata": {},
   "source": [
    "### 1. Load packages and set global variables"
   ]
  },
  {
   "cell_type": "code",
   "execution_count": 1,
   "metadata": {
    "collapsed": true
   },
   "outputs": [],
   "source": [
    "import os\n",
    "import pandas as pd\n",
    "from datetime import datetime as dt\n",
    "import requests\n",
    "import json\n",
    "#import csv\n",
    "import database as db # our script for easier db integration\n",
    "\n",
    "# set data directory\n",
    "data_path = (os.getcwd() + \"/Data/\")\n",
    "\n",
    "endpoints = ['deals','organizations','persons','products'] # list all available features\n",
    "api_token = 'cd42385eac29c54911d1dc82eb2f96eff29b8d9d' # eventually can update to oauth 2.0\n",
    "\n",
    "# connection to Postgres database\n",
    "conn = db.connect()"
   ]
  },
  {
   "cell_type": "markdown",
   "metadata": {},
   "source": [
    "### 2. Extract data from Pipedrive"
   ]
  },
  {
   "cell_type": "code",
   "execution_count": 3,
   "metadata": {
    "collapsed": true
   },
   "outputs": [],
   "source": [
    "def get_data(api_token, endpoint):\n",
    "    \n",
    "    # define url params\n",
    "    company_domain = 'https://actdental-c8c401.pipedrive.com/v1/'\n",
    "    parameter = {'api_token':api_token}\n",
    "    \n",
    "    response = requests.get(company_domain + endpoint, params=parameter)\n",
    "    \n",
    "    if response.status_code == 200:\n",
    "        json_data = response.json()['data']\n",
    "        print('Retrieved {} data from Pipedrive'.format(endpoint))\n",
    "    else:\n",
    "        print(response.status_code)\n",
    "    \n",
    "    return json_data"
   ]
  },
  {
   "cell_type": "code",
   "execution_count": 4,
   "metadata": {
    "collapsed": true
   },
   "outputs": [],
   "source": [
    "def products_to_df(json_data, dtm_to_dte=True):\n",
    "    # out_file_name='products.csv',\n",
    "    \n",
    "    # read product data\n",
    "    products = pd.json_normalize(json_data)[['id','name','code','description','active_flag','owner_id.id','owner_id.name','add_time','update_time']]\n",
    "\n",
    "    # rename columns\n",
    "    products.rename(\n",
    "        columns={\n",
    "            'id':'product_id',\n",
    "            'name':'product_nme',\n",
    "            'code':'product_cde',\n",
    "            'description':'product_dsc',\n",
    "            'active_flag':'active_ind',\n",
    "            'owner_id.id':'owner_id',\n",
    "            'owner_id.name':'owner_nme',\n",
    "            'add_time':'insert_dte',\n",
    "            'update_time':'update_dte'\n",
    "        }, inplace=True)\n",
    "\n",
    "    # read individual price data\n",
    "    prices = pd.json_normalize(json_data, 'prices')[['id','price','product_id']]\n",
    "\n",
    "    # rename columns\n",
    "    prices.rename(\n",
    "        columns={\n",
    "            'id':'price_id',\n",
    "            'price':'price_amt'\n",
    "        }, inplace=True)\n",
    "\n",
    "\n",
    "    # join price data back to product -- unnecessary to keep both\n",
    "    products = products.join(prices.set_index('product_id'), on='product_id')\n",
    "\n",
    "    # convert to timestamps\n",
    "    for col in ['insert_dte','update_dte']:\n",
    "        products[col] = pd.to_datetime(products[col])\n",
    "        # conditionally strip timestamp\n",
    "        if dtm_to_dte:\n",
    "            products[col] = products[col].dt.date\n",
    "    \n",
    "    # export to file\n",
    "    #products.to_csv(data_path + out_file_name, index=False)\n",
    "    \n",
    "    # success message\n",
    "    #print('Data can be found at {}'.format(data_path + out_file_name))\n",
    "    \n",
    "    return products"
   ]
  },
  {
   "cell_type": "code",
   "execution_count": 5,
   "metadata": {},
   "outputs": [
    {
     "name": "stdout",
     "output_type": "stream",
     "text": [
      "Retrieved products data from Pipedrive\n"
     ]
    }
   ],
   "source": [
    "products_json = get_data(api_token, endpoints[3])"
   ]
  },
  {
   "cell_type": "code",
   "execution_count": 6,
   "metadata": {},
   "outputs": [],
   "source": [
    "product_data = products_to_df(products_json)"
   ]
  },
  {
   "cell_type": "code",
   "execution_count": 8,
   "metadata": {},
   "outputs": [
    {
     "data": {
      "text/plain": [
       "0"
      ]
     },
     "execution_count": 8,
     "metadata": {},
     "output_type": "execute_result"
    }
   ],
   "source": [
    "# drop and recreate table\n",
    "db.execute_query(conn, \"drop table products\")\n",
    "db.execute_query(conn, \"create table products(product_id int primary key, product_nme varchar(50), product_cde varchar(10), product_dsc varchar(100), active_ind boolean, owner_id int, owner_nme varchar(50), insert_dte date, update_dte date, price_id int, price_amt numeric(9,2))\")"
   ]
  },
  {
   "cell_type": "code",
   "execution_count": 10,
   "metadata": {},
   "outputs": [
    {
     "name": "stdout",
     "output_type": "stream",
     "text": [
      "execute_values() done\n"
     ]
    }
   ],
   "source": [
    "# insert data from dataframe\n",
    "db.execute_values(conn, product_data, 'products')"
   ]
  },
  {
   "cell_type": "code",
   "execution_count": 11,
   "metadata": {
    "scrolled": true
   },
   "outputs": [
    {
     "data": {
      "text/plain": [
       "[(1,), (3,), (4,), (5,), (6,), (8,), (9,)]"
      ]
     },
     "execution_count": 11,
     "metadata": {},
     "output_type": "execute_result"
    }
   ],
   "source": [
    "# validate that data is inserted\n",
    "db.execute_query(conn, 'select product_id from products')"
   ]
  },
  {
   "cell_type": "markdown",
   "metadata": {},
   "source": [
    "## New stuff"
   ]
  },
  {
   "cell_type": "code",
   "execution_count": null,
   "metadata": {
    "collapsed": true
   },
   "outputs": [],
   "source": [
    "def paginate(endpoint, my_data=[], limit=1, start=0, api_token='cd42385eac29c54911d1dc82eb2f96eff29b8d9d'):\n",
    "    \n",
    "    parameters = {\n",
    "        'start':start,\n",
    "        'limit':limit,\n",
    "        'api_token':api_token\n",
    "    }\n",
    "    \n",
    "    url = 'https://{domain}.pipedrive.com/v1/{endpoint}'.format(domain=domain, endpoint=endpoint)\n",
    "    \n",
    "    response = requests.get(url, parameters)\n",
    "    \n",
    "    if response.status_code == 200:\n",
    "        json_data = response.json()\n",
    "    else:\n",
    "        print(response.status_code)\n",
    "    \n",
    "    my_data.append(json_data['data'])\n",
    "    \n",
    "    if json_data['additional_data']['pagination']['more_items_in_collection']:\n",
    "        paginate(endpoint, my_data, start=json_data['additional_data']['pagination']['next_start'])\n",
    "    \n",
    "    return my_data"
   ]
  },
  {
   "cell_type": "code",
   "execution_count": null,
   "metadata": {
    "scrolled": true
   },
   "outputs": [],
   "source": [
    "paginate(endpoints[3])"
   ]
  },
  {
   "cell_type": "code",
   "execution_count": null,
   "metadata": {},
   "outputs": [],
   "source": [
    "endpoint = endpoints[3]\n",
    "\n",
    "# define url params\n",
    "#company_domain = 'https://actdental-c8c401.pipedrive.com/v1/'\n",
    "domain = 'actdental-c8c401'\n",
    "parameter = {'start':0, 'limit':10, 'api_token':api_token}\n",
    "\n",
    "#response = requests.get(company_domain + endpoint, params=parameter)\n",
    "response = requests.get('https://{domain}.pipedrive.com/v1/{endpoint}'.format(domain=domain, endpoint=endpoint), params=parameter)\n",
    "\n",
    "if response.status_code == 200:\n",
    "    json_data = response.json() #['data']\n",
    "    print('Retrieved {} data from Pipedrive'.format(endpoint))\n",
    "else:\n",
    "    print(response.status_code)"
   ]
  },
  {
   "cell_type": "code",
   "execution_count": null,
   "metadata": {
    "scrolled": true
   },
   "outputs": [],
   "source": [
    "json_data['data'][0]"
   ]
  }
 ],
 "metadata": {
  "kernelspec": {
   "display_name": "Python 3",
   "language": "python",
   "name": "python3"
  },
  "language_info": {
   "codemirror_mode": {
    "name": "ipython",
    "version": 3
   },
   "file_extension": ".py",
   "mimetype": "text/x-python",
   "name": "python",
   "nbconvert_exporter": "python",
   "pygments_lexer": "ipython3",
   "version": "3.6.10"
  }
 },
 "nbformat": 4,
 "nbformat_minor": 2
}
